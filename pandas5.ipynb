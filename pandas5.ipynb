{
 "cells": [
  {
   "cell_type": "code",
   "execution_count": 1,
   "id": "fbfb89bc-5d33-4eae-abaf-f3f662a77688",
   "metadata": {},
   "outputs": [],
   "source": [
    "import pandas as pd\n",
    "pd.set_option('display.max_rows', 5)#is used to limit the number of rows shown when you print a pandas DataFrame or Series.\n",
    "import numpy as np\n",
    "reviews = pd.read_csv(r\"C:\\Users\\ashid\\Downloads\\wine review dataset\\winemag-data-130k-v2.csv\", index_col=0)"
   ]
  },
  {
   "cell_type": "markdown",
   "id": "3afada51-61d4-47f9-a74d-b6971e582eae",
   "metadata": {},
   "source": [
    "### Groupwise analysis"
   ]
  },
  {
   "cell_type": "code",
   "execution_count": 4,
   "id": "af2bcf38-4562-4eef-b35c-9a5a76f357c2",
   "metadata": {},
   "outputs": [
    {
     "data": {
      "text/plain": [
       "points\n",
       "80     397\n",
       "81     692\n",
       "      ... \n",
       "99      33\n",
       "100     19\n",
       "Name: points, Length: 21, dtype: int64"
      ]
     },
     "execution_count": 4,
     "metadata": {},
     "output_type": "execute_result"
    }
   ],
   "source": [
    "reviews.groupby('points').points.count()#groupby() created a group of reviews which allotted the same point values to the given wines. "
   ]
  },
  {
   "cell_type": "code",
   "execution_count": 6,
   "id": "e669f5c5-6574-46f2-bb3c-10cea5c5ae68",
   "metadata": {},
   "outputs": [
    {
     "data": {
      "text/plain": [
       "points\n",
       "80      5.0\n",
       "81      5.0\n",
       "       ... \n",
       "99     44.0\n",
       "100    80.0\n",
       "Name: price, Length: 21, dtype: float64"
      ]
     },
     "execution_count": 6,
     "metadata": {},
     "output_type": "execute_result"
    }
   ],
   "source": [
    "#to get the cheapest wine in each point value category, \n",
    "reviews.groupby('points').price.min()"
   ]
  },
  {
   "cell_type": "code",
   "execution_count": 14,
   "id": "56555dca-8cd2-4839-94eb-24fb5ed70fed",
   "metadata": {},
   "outputs": [
    {
     "data": {
      "text/plain": [
       "winery\n",
       "1+1=3                          1+1=3 NV Rosé Sparkling (Cava)\n",
       "10 Knots                 10 Knots 2010 Viognier (Paso Robles)\n",
       "                                  ...                        \n",
       "àMaurice    àMaurice 2013 Fred Estate Syrah (Walla Walla V...\n",
       "Štoka                         Štoka 2009 Izbrani Teran (Kras)\n",
       "Name: title, Length: 16757, dtype: object"
      ]
     },
     "execution_count": 14,
     "metadata": {},
     "output_type": "execute_result"
    }
   ],
   "source": [
    "#selecting the name of the first wine reviewed from each winery in the dataset\n",
    "reviews.groupby('winery')['title'].apply(lambda x: x.iloc[0])\n"
   ]
  },
  {
   "cell_type": "code",
   "execution_count": 24,
   "id": "c33ccef0-c8a0-4988-8333-9a85441b15ea",
   "metadata": {},
   "outputs": [
    {
     "data": {
      "text/html": [
       "<div>\n",
       "<style scoped>\n",
       "    .dataframe tbody tr th:only-of-type {\n",
       "        vertical-align: middle;\n",
       "    }\n",
       "\n",
       "    .dataframe tbody tr th {\n",
       "        vertical-align: top;\n",
       "    }\n",
       "\n",
       "    .dataframe thead th {\n",
       "        text-align: right;\n",
       "    }\n",
       "</style>\n",
       "<table border=\"1\" class=\"dataframe\">\n",
       "  <thead>\n",
       "    <tr style=\"text-align: right;\">\n",
       "      <th></th>\n",
       "      <th>country</th>\n",
       "      <th>description</th>\n",
       "      <th>designation</th>\n",
       "      <th>points</th>\n",
       "      <th>price</th>\n",
       "      <th>province</th>\n",
       "      <th>region_1</th>\n",
       "      <th>region_2</th>\n",
       "      <th>taster_name</th>\n",
       "      <th>taster_twitter_handle</th>\n",
       "      <th>title</th>\n",
       "      <th>variety</th>\n",
       "      <th>winery</th>\n",
       "    </tr>\n",
       "  </thead>\n",
       "  <tbody>\n",
       "    <tr>\n",
       "      <th>82754</th>\n",
       "      <td>Argentina</td>\n",
       "      <td>If the color doesn't tell the full story, the ...</td>\n",
       "      <td>Nicasia Vineyard</td>\n",
       "      <td>97</td>\n",
       "      <td>120.0</td>\n",
       "      <td>Mendoza Province</td>\n",
       "      <td>Mendoza</td>\n",
       "      <td>NaN</td>\n",
       "      <td>Michael Schachner</td>\n",
       "      <td>@wineschach</td>\n",
       "      <td>Bodega Catena Zapata 2006 Nicasia Vineyard Mal...</td>\n",
       "      <td>Malbec</td>\n",
       "      <td>Bodega Catena Zapata</td>\n",
       "    </tr>\n",
       "    <tr>\n",
       "      <th>78303</th>\n",
       "      <td>Argentina</td>\n",
       "      <td>Take note, this could be the best wine Colomé ...</td>\n",
       "      <td>Reserva</td>\n",
       "      <td>95</td>\n",
       "      <td>90.0</td>\n",
       "      <td>Other</td>\n",
       "      <td>Salta</td>\n",
       "      <td>NaN</td>\n",
       "      <td>Michael Schachner</td>\n",
       "      <td>@wineschach</td>\n",
       "      <td>Colomé 2010 Reserva Malbec (Salta)</td>\n",
       "      <td>Malbec</td>\n",
       "      <td>Colomé</td>\n",
       "    </tr>\n",
       "    <tr>\n",
       "      <th>...</th>\n",
       "      <td>...</td>\n",
       "      <td>...</td>\n",
       "      <td>...</td>\n",
       "      <td>...</td>\n",
       "      <td>...</td>\n",
       "      <td>...</td>\n",
       "      <td>...</td>\n",
       "      <td>...</td>\n",
       "      <td>...</td>\n",
       "      <td>...</td>\n",
       "      <td>...</td>\n",
       "      <td>...</td>\n",
       "      <td>...</td>\n",
       "    </tr>\n",
       "    <tr>\n",
       "      <th>39898</th>\n",
       "      <td>Uruguay</td>\n",
       "      <td>Baked, sweet, heavy aromas turn earthy with ti...</td>\n",
       "      <td>El Preciado Gran Reserva</td>\n",
       "      <td>87</td>\n",
       "      <td>50.0</td>\n",
       "      <td>San Jose</td>\n",
       "      <td>NaN</td>\n",
       "      <td>NaN</td>\n",
       "      <td>Michael Schachner</td>\n",
       "      <td>@wineschach</td>\n",
       "      <td>Castillo Viejo 2005 El Preciado Gran Reserva R...</td>\n",
       "      <td>Red Blend</td>\n",
       "      <td>Castillo Viejo</td>\n",
       "    </tr>\n",
       "    <tr>\n",
       "      <th>39361</th>\n",
       "      <td>Uruguay</td>\n",
       "      <td>Cherry and berry aromas are ripe, healthy and ...</td>\n",
       "      <td>Blend 002 Limited Edition</td>\n",
       "      <td>91</td>\n",
       "      <td>22.0</td>\n",
       "      <td>Uruguay</td>\n",
       "      <td>NaN</td>\n",
       "      <td>NaN</td>\n",
       "      <td>Michael Schachner</td>\n",
       "      <td>@wineschach</td>\n",
       "      <td>Narbona NV Blend 002 Limited Edition Tannat-Ca...</td>\n",
       "      <td>Tannat-Cabernet Franc</td>\n",
       "      <td>Narbona</td>\n",
       "    </tr>\n",
       "  </tbody>\n",
       "</table>\n",
       "<p>425 rows × 13 columns</p>\n",
       "</div>"
      ],
      "text/plain": [
       "         country                                        description  \\\n",
       "82754  Argentina  If the color doesn't tell the full story, the ...   \n",
       "78303  Argentina  Take note, this could be the best wine Colomé ...   \n",
       "...          ...                                                ...   \n",
       "39898    Uruguay  Baked, sweet, heavy aromas turn earthy with ti...   \n",
       "39361    Uruguay  Cherry and berry aromas are ripe, healthy and ...   \n",
       "\n",
       "                     designation  points  price          province region_1  \\\n",
       "82754           Nicasia Vineyard      97  120.0  Mendoza Province  Mendoza   \n",
       "78303                    Reserva      95   90.0             Other    Salta   \n",
       "...                          ...     ...    ...               ...      ...   \n",
       "39898   El Preciado Gran Reserva      87   50.0          San Jose      NaN   \n",
       "39361  Blend 002 Limited Edition      91   22.0           Uruguay      NaN   \n",
       "\n",
       "      region_2        taster_name taster_twitter_handle  \\\n",
       "82754      NaN  Michael Schachner           @wineschach   \n",
       "78303      NaN  Michael Schachner           @wineschach   \n",
       "...        ...                ...                   ...   \n",
       "39898      NaN  Michael Schachner           @wineschach   \n",
       "39361      NaN  Michael Schachner           @wineschach   \n",
       "\n",
       "                                                   title  \\\n",
       "82754  Bodega Catena Zapata 2006 Nicasia Vineyard Mal...   \n",
       "78303                 Colomé 2010 Reserva Malbec (Salta)   \n",
       "...                                                  ...   \n",
       "39898  Castillo Viejo 2005 El Preciado Gran Reserva R...   \n",
       "39361  Narbona NV Blend 002 Limited Edition Tannat-Ca...   \n",
       "\n",
       "                     variety                winery  \n",
       "82754                 Malbec  Bodega Catena Zapata  \n",
       "78303                 Malbec                Colomé  \n",
       "...                      ...                   ...  \n",
       "39898              Red Blend        Castillo Viejo  \n",
       "39361  Tannat-Cabernet Franc               Narbona  \n",
       "\n",
       "[425 rows x 13 columns]"
      ]
     },
     "execution_count": 24,
     "metadata": {},
     "output_type": "execute_result"
    }
   ],
   "source": [
    "\n",
    "# Find indices of max points per group\n",
    "idx = reviews.groupby(['country', 'province'])['points'].idxmax()\n",
    "\n",
    "# Select rows at those indices\n",
    "top_reviews = reviews.loc[idx]\n",
    "top_reviews"
   ]
  },
  {
   "cell_type": "code",
   "execution_count": 31,
   "id": "53a2b4d7-b015-4baf-ae6b-7f453ed2cfa6",
   "metadata": {},
   "outputs": [
    {
     "data": {
      "text/html": [
       "<div>\n",
       "<style scoped>\n",
       "    .dataframe tbody tr th:only-of-type {\n",
       "        vertical-align: middle;\n",
       "    }\n",
       "\n",
       "    .dataframe tbody tr th {\n",
       "        vertical-align: top;\n",
       "    }\n",
       "\n",
       "    .dataframe thead th {\n",
       "        text-align: right;\n",
       "    }\n",
       "</style>\n",
       "<table border=\"1\" class=\"dataframe\">\n",
       "  <thead>\n",
       "    <tr style=\"text-align: right;\">\n",
       "      <th></th>\n",
       "      <th>count</th>\n",
       "      <th>min</th>\n",
       "      <th>max</th>\n",
       "    </tr>\n",
       "    <tr>\n",
       "      <th>country</th>\n",
       "      <th></th>\n",
       "      <th></th>\n",
       "      <th></th>\n",
       "    </tr>\n",
       "  </thead>\n",
       "  <tbody>\n",
       "    <tr>\n",
       "      <th>Argentina</th>\n",
       "      <td>3756</td>\n",
       "      <td>4.0</td>\n",
       "      <td>230.0</td>\n",
       "    </tr>\n",
       "    <tr>\n",
       "      <th>Armenia</th>\n",
       "      <td>2</td>\n",
       "      <td>14.0</td>\n",
       "      <td>15.0</td>\n",
       "    </tr>\n",
       "    <tr>\n",
       "      <th>...</th>\n",
       "      <td>...</td>\n",
       "      <td>...</td>\n",
       "      <td>...</td>\n",
       "    </tr>\n",
       "    <tr>\n",
       "      <th>Ukraine</th>\n",
       "      <td>14</td>\n",
       "      <td>6.0</td>\n",
       "      <td>13.0</td>\n",
       "    </tr>\n",
       "    <tr>\n",
       "      <th>Uruguay</th>\n",
       "      <td>109</td>\n",
       "      <td>10.0</td>\n",
       "      <td>130.0</td>\n",
       "    </tr>\n",
       "  </tbody>\n",
       "</table>\n",
       "<p>43 rows × 3 columns</p>\n",
       "</div>"
      ],
      "text/plain": [
       "           count   min    max\n",
       "country                      \n",
       "Argentina   3756   4.0  230.0\n",
       "Armenia        2  14.0   15.0\n",
       "...          ...   ...    ...\n",
       "Ukraine       14   6.0   13.0\n",
       "Uruguay      109  10.0  130.0\n",
       "\n",
       "[43 rows x 3 columns]"
      ]
     },
     "execution_count": 31,
     "metadata": {},
     "output_type": "execute_result"
    }
   ],
   "source": [
    "#generate a simple statistical summary of the dataset \n",
    "\n",
    "reviews.groupby(['country']).price.agg(['count', 'min', 'max'])\n"
   ]
  },
  {
   "cell_type": "markdown",
   "id": "57a77137-2e08-4cc1-8176-f3bbcf1775a8",
   "metadata": {},
   "source": [
    "### Multi-indexes"
   ]
  },
  {
   "cell_type": "code",
   "execution_count": 33,
   "id": "5c32465a-baf3-49e1-8982-217cb8ca9bf4",
   "metadata": {},
   "outputs": [
    {
     "data": {
      "text/html": [
       "<div>\n",
       "<style scoped>\n",
       "    .dataframe tbody tr th:only-of-type {\n",
       "        vertical-align: middle;\n",
       "    }\n",
       "\n",
       "    .dataframe tbody tr th {\n",
       "        vertical-align: top;\n",
       "    }\n",
       "\n",
       "    .dataframe thead th {\n",
       "        text-align: right;\n",
       "    }\n",
       "</style>\n",
       "<table border=\"1\" class=\"dataframe\">\n",
       "  <thead>\n",
       "    <tr style=\"text-align: right;\">\n",
       "      <th></th>\n",
       "      <th></th>\n",
       "      <th>len</th>\n",
       "    </tr>\n",
       "    <tr>\n",
       "      <th>country</th>\n",
       "      <th>province</th>\n",
       "      <th></th>\n",
       "    </tr>\n",
       "  </thead>\n",
       "  <tbody>\n",
       "    <tr>\n",
       "      <th rowspan=\"2\" valign=\"top\">Argentina</th>\n",
       "      <th>Mendoza Province</th>\n",
       "      <td>3264</td>\n",
       "    </tr>\n",
       "    <tr>\n",
       "      <th>Other</th>\n",
       "      <td>536</td>\n",
       "    </tr>\n",
       "    <tr>\n",
       "      <th>...</th>\n",
       "      <th>...</th>\n",
       "      <td>...</td>\n",
       "    </tr>\n",
       "    <tr>\n",
       "      <th rowspan=\"2\" valign=\"top\">Uruguay</th>\n",
       "      <th>San Jose</th>\n",
       "      <td>3</td>\n",
       "    </tr>\n",
       "    <tr>\n",
       "      <th>Uruguay</th>\n",
       "      <td>24</td>\n",
       "    </tr>\n",
       "  </tbody>\n",
       "</table>\n",
       "<p>425 rows × 1 columns</p>\n",
       "</div>"
      ],
      "text/plain": [
       "                             len\n",
       "country   province              \n",
       "Argentina Mendoza Province  3264\n",
       "          Other              536\n",
       "...                          ...\n",
       "Uruguay   San Jose             3\n",
       "          Uruguay             24\n",
       "\n",
       "[425 rows x 1 columns]"
      ]
     },
     "execution_count": 33,
     "metadata": {},
     "output_type": "execute_result"
    }
   ],
   "source": [
    "#A multi-index differs from a regular index in that it has multiple levels.\n",
    "countries_reviewed = reviews.groupby(['country', 'province']).description.agg([len])\n",
    "countries_reviewed"
   ]
  },
  {
   "cell_type": "code",
   "execution_count": 35,
   "id": "0c6cb995-1648-4a80-99a4-42bec1d2526e",
   "metadata": {},
   "outputs": [
    {
     "data": {
      "text/plain": [
       "pandas.core.indexes.multi.MultiIndex"
      ]
     },
     "execution_count": 35,
     "metadata": {},
     "output_type": "execute_result"
    }
   ],
   "source": [
    "mi = countries_reviewed.index\n",
    "type(mi)"
   ]
  },
  {
   "cell_type": "code",
   "execution_count": null,
   "id": "1a8fd09f-7e7d-4489-8ba0-16bcd25fbda2",
   "metadata": {},
   "outputs": [],
   "source": []
  },
  {
   "cell_type": "markdown",
   "id": "f91a35be-9125-4406-8248-2efceae0ac74",
   "metadata": {},
   "source": [
    "Multi-indexes in pandas have multiple levels (tiers) of labels, unlike regular single-level indexes. Because of this, you need two labels (one for each level) to get a specific value."
   ]
  },
  {
   "cell_type": "code",
   "execution_count": 38,
   "id": "a801a97d-ee4c-4414-ac37-4c880f257a2c",
   "metadata": {},
   "outputs": [
    {
     "data": {
      "text/html": [
       "<div>\n",
       "<style scoped>\n",
       "    .dataframe tbody tr th:only-of-type {\n",
       "        vertical-align: middle;\n",
       "    }\n",
       "\n",
       "    .dataframe tbody tr th {\n",
       "        vertical-align: top;\n",
       "    }\n",
       "\n",
       "    .dataframe thead th {\n",
       "        text-align: right;\n",
       "    }\n",
       "</style>\n",
       "<table border=\"1\" class=\"dataframe\">\n",
       "  <thead>\n",
       "    <tr style=\"text-align: right;\">\n",
       "      <th></th>\n",
       "      <th>country</th>\n",
       "      <th>province</th>\n",
       "      <th>len</th>\n",
       "    </tr>\n",
       "  </thead>\n",
       "  <tbody>\n",
       "    <tr>\n",
       "      <th>0</th>\n",
       "      <td>Argentina</td>\n",
       "      <td>Mendoza Province</td>\n",
       "      <td>3264</td>\n",
       "    </tr>\n",
       "    <tr>\n",
       "      <th>1</th>\n",
       "      <td>Argentina</td>\n",
       "      <td>Other</td>\n",
       "      <td>536</td>\n",
       "    </tr>\n",
       "    <tr>\n",
       "      <th>...</th>\n",
       "      <td>...</td>\n",
       "      <td>...</td>\n",
       "      <td>...</td>\n",
       "    </tr>\n",
       "    <tr>\n",
       "      <th>423</th>\n",
       "      <td>Uruguay</td>\n",
       "      <td>San Jose</td>\n",
       "      <td>3</td>\n",
       "    </tr>\n",
       "    <tr>\n",
       "      <th>424</th>\n",
       "      <td>Uruguay</td>\n",
       "      <td>Uruguay</td>\n",
       "      <td>24</td>\n",
       "    </tr>\n",
       "  </tbody>\n",
       "</table>\n",
       "<p>425 rows × 3 columns</p>\n",
       "</div>"
      ],
      "text/plain": [
       "       country          province   len\n",
       "0    Argentina  Mendoza Province  3264\n",
       "1    Argentina             Other   536\n",
       "..         ...               ...   ...\n",
       "423    Uruguay          San Jose     3\n",
       "424    Uruguay           Uruguay    24\n",
       "\n",
       "[425 rows x 3 columns]"
      ]
     },
     "execution_count": 38,
     "metadata": {},
     "output_type": "execute_result"
    }
   ],
   "source": [
    "countries_reviewed.reset_index()"
   ]
  },
  {
   "cell_type": "markdown",
   "id": "58d6729d-7781-4087-9c84-f1a03019c7d4",
   "metadata": {},
   "source": [
    "### Sorting"
   ]
  },
  {
   "cell_type": "code",
   "execution_count": 41,
   "id": "5eb70347-bf25-46c1-a309-7cea321f584f",
   "metadata": {},
   "outputs": [
    {
     "data": {
      "text/html": [
       "<div>\n",
       "<style scoped>\n",
       "    .dataframe tbody tr th:only-of-type {\n",
       "        vertical-align: middle;\n",
       "    }\n",
       "\n",
       "    .dataframe tbody tr th {\n",
       "        vertical-align: top;\n",
       "    }\n",
       "\n",
       "    .dataframe thead th {\n",
       "        text-align: right;\n",
       "    }\n",
       "</style>\n",
       "<table border=\"1\" class=\"dataframe\">\n",
       "  <thead>\n",
       "    <tr style=\"text-align: right;\">\n",
       "      <th></th>\n",
       "      <th>country</th>\n",
       "      <th>province</th>\n",
       "      <th>len</th>\n",
       "    </tr>\n",
       "  </thead>\n",
       "  <tbody>\n",
       "    <tr>\n",
       "      <th>179</th>\n",
       "      <td>Greece</td>\n",
       "      <td>Muscat of Kefallonian</td>\n",
       "      <td>1</td>\n",
       "    </tr>\n",
       "    <tr>\n",
       "      <th>192</th>\n",
       "      <td>Greece</td>\n",
       "      <td>Sterea Ellada</td>\n",
       "      <td>1</td>\n",
       "    </tr>\n",
       "    <tr>\n",
       "      <th>...</th>\n",
       "      <td>...</td>\n",
       "      <td>...</td>\n",
       "      <td>...</td>\n",
       "    </tr>\n",
       "    <tr>\n",
       "      <th>415</th>\n",
       "      <td>US</td>\n",
       "      <td>Washington</td>\n",
       "      <td>8639</td>\n",
       "    </tr>\n",
       "    <tr>\n",
       "      <th>392</th>\n",
       "      <td>US</td>\n",
       "      <td>California</td>\n",
       "      <td>36247</td>\n",
       "    </tr>\n",
       "  </tbody>\n",
       "</table>\n",
       "<p>425 rows × 3 columns</p>\n",
       "</div>"
      ],
      "text/plain": [
       "    country               province    len\n",
       "179  Greece  Muscat of Kefallonian      1\n",
       "192  Greece          Sterea Ellada      1\n",
       "..      ...                    ...    ...\n",
       "415      US             Washington   8639\n",
       "392      US             California  36247\n",
       "\n",
       "[425 rows x 3 columns]"
      ]
     },
     "execution_count": 41,
     "metadata": {},
     "output_type": "execute_result"
    }
   ],
   "source": [
    "countries_reviewed = countries_reviewed.reset_index()\n",
    "countries_reviewed.sort_values(by='len')"
   ]
  },
  {
   "cell_type": "code",
   "execution_count": 43,
   "id": "2b546691-24af-45d9-aa32-392dab22cb79",
   "metadata": {},
   "outputs": [
    {
     "data": {
      "text/html": [
       "<div>\n",
       "<style scoped>\n",
       "    .dataframe tbody tr th:only-of-type {\n",
       "        vertical-align: middle;\n",
       "    }\n",
       "\n",
       "    .dataframe tbody tr th {\n",
       "        vertical-align: top;\n",
       "    }\n",
       "\n",
       "    .dataframe thead th {\n",
       "        text-align: right;\n",
       "    }\n",
       "</style>\n",
       "<table border=\"1\" class=\"dataframe\">\n",
       "  <thead>\n",
       "    <tr style=\"text-align: right;\">\n",
       "      <th></th>\n",
       "      <th>country</th>\n",
       "      <th>province</th>\n",
       "      <th>len</th>\n",
       "    </tr>\n",
       "  </thead>\n",
       "  <tbody>\n",
       "    <tr>\n",
       "      <th>392</th>\n",
       "      <td>US</td>\n",
       "      <td>California</td>\n",
       "      <td>36247</td>\n",
       "    </tr>\n",
       "    <tr>\n",
       "      <th>415</th>\n",
       "      <td>US</td>\n",
       "      <td>Washington</td>\n",
       "      <td>8639</td>\n",
       "    </tr>\n",
       "    <tr>\n",
       "      <th>...</th>\n",
       "      <td>...</td>\n",
       "      <td>...</td>\n",
       "      <td>...</td>\n",
       "    </tr>\n",
       "    <tr>\n",
       "      <th>63</th>\n",
       "      <td>Chile</td>\n",
       "      <td>Coelemu</td>\n",
       "      <td>1</td>\n",
       "    </tr>\n",
       "    <tr>\n",
       "      <th>149</th>\n",
       "      <td>Greece</td>\n",
       "      <td>Beotia</td>\n",
       "      <td>1</td>\n",
       "    </tr>\n",
       "  </tbody>\n",
       "</table>\n",
       "<p>425 rows × 3 columns</p>\n",
       "</div>"
      ],
      "text/plain": [
       "    country    province    len\n",
       "392      US  California  36247\n",
       "415      US  Washington   8639\n",
       "..      ...         ...    ...\n",
       "63    Chile     Coelemu      1\n",
       "149  Greece      Beotia      1\n",
       "\n",
       "[425 rows x 3 columns]"
      ]
     },
     "execution_count": 43,
     "metadata": {},
     "output_type": "execute_result"
    }
   ],
   "source": [
    "countries_reviewed.sort_values(by='len', ascending=False)"
   ]
  },
  {
   "cell_type": "code",
   "execution_count": 45,
   "id": "1efe2519-6fea-41f3-a486-50300a280314",
   "metadata": {},
   "outputs": [
    {
     "data": {
      "text/html": [
       "<div>\n",
       "<style scoped>\n",
       "    .dataframe tbody tr th:only-of-type {\n",
       "        vertical-align: middle;\n",
       "    }\n",
       "\n",
       "    .dataframe tbody tr th {\n",
       "        vertical-align: top;\n",
       "    }\n",
       "\n",
       "    .dataframe thead th {\n",
       "        text-align: right;\n",
       "    }\n",
       "</style>\n",
       "<table border=\"1\" class=\"dataframe\">\n",
       "  <thead>\n",
       "    <tr style=\"text-align: right;\">\n",
       "      <th></th>\n",
       "      <th>country</th>\n",
       "      <th>province</th>\n",
       "      <th>len</th>\n",
       "    </tr>\n",
       "  </thead>\n",
       "  <tbody>\n",
       "    <tr>\n",
       "      <th>0</th>\n",
       "      <td>Argentina</td>\n",
       "      <td>Mendoza Province</td>\n",
       "      <td>3264</td>\n",
       "    </tr>\n",
       "    <tr>\n",
       "      <th>1</th>\n",
       "      <td>Argentina</td>\n",
       "      <td>Other</td>\n",
       "      <td>536</td>\n",
       "    </tr>\n",
       "    <tr>\n",
       "      <th>...</th>\n",
       "      <td>...</td>\n",
       "      <td>...</td>\n",
       "      <td>...</td>\n",
       "    </tr>\n",
       "    <tr>\n",
       "      <th>423</th>\n",
       "      <td>Uruguay</td>\n",
       "      <td>San Jose</td>\n",
       "      <td>3</td>\n",
       "    </tr>\n",
       "    <tr>\n",
       "      <th>424</th>\n",
       "      <td>Uruguay</td>\n",
       "      <td>Uruguay</td>\n",
       "      <td>24</td>\n",
       "    </tr>\n",
       "  </tbody>\n",
       "</table>\n",
       "<p>425 rows × 3 columns</p>\n",
       "</div>"
      ],
      "text/plain": [
       "       country          province   len\n",
       "0    Argentina  Mendoza Province  3264\n",
       "1    Argentina             Other   536\n",
       "..         ...               ...   ...\n",
       "423    Uruguay          San Jose     3\n",
       "424    Uruguay           Uruguay    24\n",
       "\n",
       "[425 rows x 3 columns]"
      ]
     },
     "execution_count": 45,
     "metadata": {},
     "output_type": "execute_result"
    }
   ],
   "source": [
    "countries_reviewed.sort_index()"
   ]
  },
  {
   "cell_type": "code",
   "execution_count": 47,
   "id": "882b143b-b01b-4983-9060-8ab03aded0ab",
   "metadata": {},
   "outputs": [
    {
     "data": {
      "text/html": [
       "<div>\n",
       "<style scoped>\n",
       "    .dataframe tbody tr th:only-of-type {\n",
       "        vertical-align: middle;\n",
       "    }\n",
       "\n",
       "    .dataframe tbody tr th {\n",
       "        vertical-align: top;\n",
       "    }\n",
       "\n",
       "    .dataframe thead th {\n",
       "        text-align: right;\n",
       "    }\n",
       "</style>\n",
       "<table border=\"1\" class=\"dataframe\">\n",
       "  <thead>\n",
       "    <tr style=\"text-align: right;\">\n",
       "      <th></th>\n",
       "      <th>country</th>\n",
       "      <th>province</th>\n",
       "      <th>len</th>\n",
       "    </tr>\n",
       "  </thead>\n",
       "  <tbody>\n",
       "    <tr>\n",
       "      <th>1</th>\n",
       "      <td>Argentina</td>\n",
       "      <td>Other</td>\n",
       "      <td>536</td>\n",
       "    </tr>\n",
       "    <tr>\n",
       "      <th>0</th>\n",
       "      <td>Argentina</td>\n",
       "      <td>Mendoza Province</td>\n",
       "      <td>3264</td>\n",
       "    </tr>\n",
       "    <tr>\n",
       "      <th>...</th>\n",
       "      <td>...</td>\n",
       "      <td>...</td>\n",
       "      <td>...</td>\n",
       "    </tr>\n",
       "    <tr>\n",
       "      <th>424</th>\n",
       "      <td>Uruguay</td>\n",
       "      <td>Uruguay</td>\n",
       "      <td>24</td>\n",
       "    </tr>\n",
       "    <tr>\n",
       "      <th>419</th>\n",
       "      <td>Uruguay</td>\n",
       "      <td>Canelones</td>\n",
       "      <td>43</td>\n",
       "    </tr>\n",
       "  </tbody>\n",
       "</table>\n",
       "<p>425 rows × 3 columns</p>\n",
       "</div>"
      ],
      "text/plain": [
       "       country          province   len\n",
       "1    Argentina             Other   536\n",
       "0    Argentina  Mendoza Province  3264\n",
       "..         ...               ...   ...\n",
       "424    Uruguay           Uruguay    24\n",
       "419    Uruguay         Canelones    43\n",
       "\n",
       "[425 rows x 3 columns]"
      ]
     },
     "execution_count": 47,
     "metadata": {},
     "output_type": "execute_result"
    }
   ],
   "source": [
    "#sort by more than one column at a time:\n",
    "countries_reviewed.sort_values(by=['country', 'len'])"
   ]
  },
  {
   "cell_type": "code",
   "execution_count": 53,
   "id": "5eecc061-c0bd-40cb-b13f-253d5377ba49",
   "metadata": {},
   "outputs": [
    {
     "data": {
      "text/plain": [
       "taster_twitter_handle\n",
       "@AnneInVino        3685\n",
       "@JoeCz             5147\n",
       "                   ... \n",
       "@winewchristina       6\n",
       "@worldwineguys     1005\n",
       "Length: 15, dtype: int64"
      ]
     },
     "execution_count": 53,
     "metadata": {},
     "output_type": "execute_result"
    }
   ],
   "source": [
    "#Who are the most common wine reviewers in the dataset? Create a Series whose index is the taster_twitter_handle category from the dataset, and whose values count how many reviews each person wrote.\n",
    "reviews_written = reviews.groupby('taster_twitter_handle').size()  #or reviews_written = reviews.groupby('taster_twitter_handle').taster_twitter_handle.count()\n",
    "reviews_written"
   ]
  },
  {
   "cell_type": "code",
   "execution_count": 55,
   "id": "10600e02-aaa3-4a43-a32e-31781bd92908",
   "metadata": {},
   "outputs": [
    {
     "data": {
      "text/plain": [
       "price\n",
       "4.0       86\n",
       "5.0       87\n",
       "          ..\n",
       "2500.0    96\n",
       "3300.0    88\n",
       "Name: points, Length: 390, dtype: int64"
      ]
     },
     "execution_count": 55,
     "metadata": {},
     "output_type": "execute_result"
    }
   ],
   "source": [
    "#What is the best wine I can buy for a given amount of money? Create a Series whose index is wine prices and whose values is the maximum number of points a wine costing that much was given in a review. Sort the values by price, ascending (so that 4.0 dollars is at the top and 3300.0 dollars is at the bottom).\n",
    "best_rating_per_price = reviews.groupby('price')['points'].max().sort_index()\n",
    "best_rating_per_price "
   ]
  },
  {
   "cell_type": "code",
   "execution_count": 59,
   "id": "be5d1774-886d-48ec-8845-99615642b962",
   "metadata": {},
   "outputs": [
    {
     "data": {
      "text/html": [
       "<div>\n",
       "<style scoped>\n",
       "    .dataframe tbody tr th:only-of-type {\n",
       "        vertical-align: middle;\n",
       "    }\n",
       "\n",
       "    .dataframe tbody tr th {\n",
       "        vertical-align: top;\n",
       "    }\n",
       "\n",
       "    .dataframe thead th {\n",
       "        text-align: right;\n",
       "    }\n",
       "</style>\n",
       "<table border=\"1\" class=\"dataframe\">\n",
       "  <thead>\n",
       "    <tr style=\"text-align: right;\">\n",
       "      <th></th>\n",
       "      <th>min</th>\n",
       "      <th>max</th>\n",
       "    </tr>\n",
       "    <tr>\n",
       "      <th>variety</th>\n",
       "      <th></th>\n",
       "      <th></th>\n",
       "    </tr>\n",
       "  </thead>\n",
       "  <tbody>\n",
       "    <tr>\n",
       "      <th>Abouriou</th>\n",
       "      <td>15.0</td>\n",
       "      <td>75.0</td>\n",
       "    </tr>\n",
       "    <tr>\n",
       "      <th>Agiorgitiko</th>\n",
       "      <td>10.0</td>\n",
       "      <td>66.0</td>\n",
       "    </tr>\n",
       "    <tr>\n",
       "      <th>...</th>\n",
       "      <td>...</td>\n",
       "      <td>...</td>\n",
       "    </tr>\n",
       "    <tr>\n",
       "      <th>Çalkarası</th>\n",
       "      <td>19.0</td>\n",
       "      <td>19.0</td>\n",
       "    </tr>\n",
       "    <tr>\n",
       "      <th>Žilavka</th>\n",
       "      <td>15.0</td>\n",
       "      <td>15.0</td>\n",
       "    </tr>\n",
       "  </tbody>\n",
       "</table>\n",
       "<p>707 rows × 2 columns</p>\n",
       "</div>"
      ],
      "text/plain": [
       "              min   max\n",
       "variety                \n",
       "Abouriou     15.0  75.0\n",
       "Agiorgitiko  10.0  66.0\n",
       "...           ...   ...\n",
       "Çalkarası    19.0  19.0\n",
       "Žilavka      15.0  15.0\n",
       "\n",
       "[707 rows x 2 columns]"
      ]
     },
     "execution_count": 59,
     "metadata": {},
     "output_type": "execute_result"
    }
   ],
   "source": [
    "#What are the minimum and maximum prices for each variety of wine? Create a DataFrame whose index is the variety category from the dataset and whose values are the min and max values thereof.\n",
    "price_extremes = reviews.groupby('variety').price.agg(['min', 'max'])\n",
    "price_extremes "
   ]
  },
  {
   "cell_type": "code",
   "execution_count": 65,
   "id": "b0c56123-7bc4-48e3-835a-20db9bcac11d",
   "metadata": {},
   "outputs": [
    {
     "data": {
      "text/html": [
       "<div>\n",
       "<style scoped>\n",
       "    .dataframe tbody tr th:only-of-type {\n",
       "        vertical-align: middle;\n",
       "    }\n",
       "\n",
       "    .dataframe tbody tr th {\n",
       "        vertical-align: top;\n",
       "    }\n",
       "\n",
       "    .dataframe thead th {\n",
       "        text-align: right;\n",
       "    }\n",
       "</style>\n",
       "<table border=\"1\" class=\"dataframe\">\n",
       "  <thead>\n",
       "    <tr style=\"text-align: right;\">\n",
       "      <th></th>\n",
       "      <th>min</th>\n",
       "      <th>max</th>\n",
       "    </tr>\n",
       "    <tr>\n",
       "      <th>variety</th>\n",
       "      <th></th>\n",
       "      <th></th>\n",
       "    </tr>\n",
       "  </thead>\n",
       "  <tbody>\n",
       "    <tr>\n",
       "      <th>Ramisco</th>\n",
       "      <td>495.0</td>\n",
       "      <td>495.0</td>\n",
       "    </tr>\n",
       "    <tr>\n",
       "      <th>Terrantez</th>\n",
       "      <td>236.0</td>\n",
       "      <td>236.0</td>\n",
       "    </tr>\n",
       "    <tr>\n",
       "      <th>...</th>\n",
       "      <td>...</td>\n",
       "      <td>...</td>\n",
       "    </tr>\n",
       "    <tr>\n",
       "      <th>Vital</th>\n",
       "      <td>NaN</td>\n",
       "      <td>NaN</td>\n",
       "    </tr>\n",
       "    <tr>\n",
       "      <th>Zelen</th>\n",
       "      <td>NaN</td>\n",
       "      <td>NaN</td>\n",
       "    </tr>\n",
       "  </tbody>\n",
       "</table>\n",
       "<p>707 rows × 2 columns</p>\n",
       "</div>"
      ],
      "text/plain": [
       "             min    max\n",
       "variety                \n",
       "Ramisco    495.0  495.0\n",
       "Terrantez  236.0  236.0\n",
       "...          ...    ...\n",
       "Vital        NaN    NaN\n",
       "Zelen        NaN    NaN\n",
       "\n",
       "[707 rows x 2 columns]"
      ]
     },
     "execution_count": 65,
     "metadata": {},
     "output_type": "execute_result"
    }
   ],
   "source": [
    "#What are the most expensive wine varieties? Create a variable sorted_varieties containing a copy of the dataframe from the previous question where varieties are sorted in descending order based on minimum price, then on maximum price (to break ties).\n",
    "sorted_varieties = price_extremes.sort_values(by=['min','max' ], ascending=False)\n",
    "\n",
    "sorted_varieties                                              "
   ]
  },
  {
   "cell_type": "code",
   "execution_count": 67,
   "id": "4efc05d7-5fff-4dbc-8338-06d331f5a645",
   "metadata": {},
   "outputs": [
    {
     "data": {
      "text/plain": [
       "taster_name\n",
       "Alexander Peartree    85.855422\n",
       "Anna Lee C. Iijima    88.415629\n",
       "                        ...    \n",
       "Susan Kostrzewa       86.609217\n",
       "Virginie Boone        89.213379\n",
       "Name: points, Length: 19, dtype: float64"
      ]
     },
     "execution_count": 67,
     "metadata": {},
     "output_type": "execute_result"
    }
   ],
   "source": [
    "#Create a Series whose index is reviewers and whose values is the average review score given out by that reviewer. Hint: you will need the taster_name and points columns.\n",
    "reviewer_mean_ratings = reviews.groupby('taster_name').points.mean()\n",
    "reviewer_mean_ratings"
   ]
  },
  {
   "cell_type": "code",
   "execution_count": 69,
   "id": "888ed9e6-2393-45b6-bcbd-fb04341e9050",
   "metadata": {},
   "outputs": [
    {
     "data": {
      "text/plain": [
       "country  variety           \n",
       "US       Pinot Noir            9885\n",
       "         Cabernet Sauvignon    7315\n",
       "                               ... \n",
       "Mexico   Rosado                   1\n",
       "Uruguay  White Blend              1\n",
       "Length: 1612, dtype: int64"
      ]
     },
     "execution_count": 69,
     "metadata": {},
     "output_type": "execute_result"
    }
   ],
   "source": [
    "#Are there significant differences in the average scores assigned by the various reviewers? Run the cell below to use the describe() method to see a summary of the range of values.\n",
    "\n",
    "reviewer_mean_ratings.describe()"
   ]
  },
  {
   "cell_type": "code",
   "execution_count": null,
   "id": "257f4795-f07a-43eb-8e10-6af7ff82526e",
   "metadata": {},
   "outputs": [],
   "source": []
  }
 ],
 "metadata": {
  "kernelspec": {
   "display_name": "Python [conda env:base] *",
   "language": "python",
   "name": "conda-base-py"
  },
  "language_info": {
   "codemirror_mode": {
    "name": "ipython",
    "version": 3
   },
   "file_extension": ".py",
   "mimetype": "text/x-python",
   "name": "python",
   "nbconvert_exporter": "python",
   "pygments_lexer": "ipython3",
   "version": "3.12.7"
  }
 },
 "nbformat": 4,
 "nbformat_minor": 5
}
